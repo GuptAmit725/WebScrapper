{
 "cells": [
  {
   "cell_type": "code",
   "execution_count": 4,
   "metadata": {},
   "outputs": [],
   "source": [
    "#pip install bs4\n",
    "from bs4 import BeautifulSoup\n",
    "import requests"
   ]
  },
  {
   "cell_type": "code",
   "execution_count": 49,
   "metadata": {},
   "outputs": [],
   "source": [
    "URL='https://www.flipkart.com/realme-xt-pearl-white-64-gb/product-reviews/itm731360fdbd273?pid=MOBFJYBEMRXDQXH4&lid=LSTMOBFJYBEMRXDQXH4IFPPLV&marketplace=FLIPKART&page='+str(3)"
   ]
  },
  {
   "cell_type": "markdown",
   "metadata": {},
   "source": [
    "Now we will use <b>request.get(URL)</b> which will return all the data availabble on the URL page in the <b>python string</b> format.\n",
    "To convert them into html tags we use BeautifulSoup library and then we can target out specific data on the page."
   ]
  },
  {
   "cell_type": "code",
   "execution_count": 50,
   "metadata": {},
   "outputs": [],
   "source": [
    "data = requests.get(URL)\n",
    "rev_soup = BeautifulSoup(data.content,'html.parser')"
   ]
  },
  {
   "cell_type": "code",
   "execution_count": 51,
   "metadata": {},
   "outputs": [
    {
     "data": {
      "text/plain": [
       "<Response [200]>"
      ]
     },
     "execution_count": 51,
     "metadata": {},
     "output_type": "execute_result"
    }
   ],
   "source": [
    "data"
   ]
  },
  {
   "cell_type": "markdown",
   "metadata": {},
   "source": [
    "Open the inspect from your browser. Hover your mouse over the screen of the webpage, and see your targt area of the webpage from where\n",
    "you need your data. fetch the name of the div-->class then run the below code."
   ]
  },
  {
   "cell_type": "code",
   "execution_count": 24,
   "metadata": {},
   "outputs": [],
   "source": [
    "reviews= rev_soup.find_all('div',{'class':'ooJZfD _2oZ8XT col-9-12'}) ooJZfD _2oZ8XT col-9-12\n",
    "#gives me those data which are in in this particular tag and class"
   ]
  },
  {
   "cell_type": "markdown",
   "metadata": {},
   "source": [
    "Now we will separate all the tags and get the proper texts out of it."
   ]
  },
  {
   "cell_type": "code",
   "execution_count": 56,
   "metadata": {
    "scrolled": false
   },
   "outputs": [
    {
     "name": "stdout",
     "output_type": "stream",
     "text": [
      "****************************************************************************************************\n",
      "[[\"1.   camera is very good in day timebut it's contain red colour more because of this the photo looks good but not natural2.  The battery of this phone is low mahbut give mi one day battery backupbut sometimes I was charged my mobile at evening3.  The display of this phone is excellent.4.  Camera bump is so large because if this you not able to use this mobile without back cover.5.  look and feel is awesomeREAD MORE\", 'Nice phone at this price point.. using since two weeks, no probs at all.. Camera is main USP, battery backup is ok, not so great, but fast charger is fast enough. recommend..READ MORE', 'Everything is fine except slo mo video and selfie camera... display and design are awesome..but camera is not like 64Mp..battery for moderate user is good. I love the colour of the phone..READ MORE', 'Good product!Realme is a new brand in market but feature it give is osume Build quility is good camera is excellentBattery life is average drainage issue...Overall good product So go for it...😅AwesomeREAD MORE', 'leaving my favorite MIUI was so sorrowful for me....Using xiaomi phones for long 4years was incredible but this model attracted me alot.Color OS is much more like MIUI but not that great...64MP quad camera is just a hype as I feel there is nothing special about it. It will take some time to b acquainted and one more thing I cant get rid of a function that every time unlock my phone with FP my hidden apps pops infront of the screen. Dont know how to stop thatupdate: After an OTA camera has...READ MORE', 'The phone looks like premium especially the pearl whitepros:1.Excellent display supports hdr content in YouTube surprisingly and it looks gorgeous2.gaming is good3.vooc charge is very useful4.rear camera is really good in daylight and low light conditionscons:1.ui needs some refinement2.battery life is average when gaming3.front camera portraits are slightly washed outREAD MORE', 'Best in this price segment. Good camera quality and display. Battery is average only. Need to improve interface and performance, overall good MobileREAD MORE', 'Just awesome all specifications is good in real alsoyou may have very little lag in gaming but overall a awesome experience and screen is so colorful and exam colour and brightness is awesome super Amoled display is awesome in one wordREAD MORE', 'First of all thank you Realme to provide this product in this budget.Display is amazing Its a charm to see video content on this screen.camera is superb in every aspect.In display Fingerprint is very fast and acurate.Super VOOC 3.0 is very fast i got 100% from 4%  in 70 mins only.Pearl white is color is very beautiful and give u very premium feel.Now i am only waiting for \"Dark mode\" and \"Always on Display\".I am totally happy with this device and who got it in first sale will also have...READ MORE', 'awesome camera awesome phone, battery is super like 5000mah with super fast charge, ps bhai is range me ye sabhi phones ka baap haiREAD MORE'], [\"Decent products. but price 1000 rs extra. if this is 14999 then superb. i am very unhappy with Flipkart because they don't give option for complete mobile protection option when i am buying this. 1.CAMERA - Nice but details missing some time and also very over SACHURATED image.  Realme please fixed this with update. 2. PERFORMANCE- NICE  nothing complain about this.  But PUBG  game play not that great Like vivo Z1 X. please add extra phecher for pubg via update.3. BATTERY- Good, not excell...READ MORE\", \"Value for money phone. Battery backup, performance and camera is top notch. Color Os is not bad but haven't yet updated to realme UI. All areas are good. I skipped realme x2 and bought xt for Rs 15000. No regrets, snapdragon 712 is a very good processor. You can buy if u want AMOLED display and a good processor under 15k.READ MORE\", 'Writing this after using it for one month...In India there is a hell lot of confusion which mobile to buy in budgeted segment...I brought the 4gb variant since my previous phone was also 4gb which is never used to lag or slow down.. and I thought 4gb ram will be sufficient for me.....But I would suggest u to go for 6gb variant. For normal user who just watches videos, uses camera, and editing tools 4gb variant is definitely a good go. what I liked most:1. Super amalod Display colo...READ MORE', 'my review after 2days...1) phone performance is very good smoothly operating,thanks to Qualcomm 712.2) need to improve image stabilization and redness3) speaker and ear side is very good...sound is very high4) battery and charger are very nice because of speed charging...((20% to 100%)) in 45 min only5) no heating or hanging problemyou can see below image:-------->>>>>>>>READ MORE', \"I bought this device 8 months ago. I am using it about 8 months. And still I'm greatful for my phone.Pros: It has very sexy sleek device. That you wanna use it without case. And it's a very durable phone. It fell many times from my hand,but still nothing happen to it. It looks premium. it feels premium because of the glass body & parabola design. The camera is so good & take very detailed picture even if you capture it in normal mode(not in 64mp mode). And the main highlight , it's super AM...READ MORE\", \"Great phone. 64 Ultra Mega Pixel Quad Camera phone. It's an honor by Realme to provide such a  great thing to Indian people. Otherwise we wouldn't able to purchase a great thing in India with such a economical price. Other Foreign companies would have charged around 45000/- for this product. We really thankful to Realme for this charity to Indian customer. And special thanks to Flipkart for helping us to buy from Realme . I really thankful to ICICI Bank for giving me 10% instant discount.READ MORE\", 'Nice phone good design value for money... 👍👌👌😊😊 Super amoled display and in fingerprint display... Superb in this price rang I think is good budget..READ MORE', 'Camera is good, Display is also pretty good, Vooc charging is awesome. Performance is very good.Camera mega pixel is the only number not much difference in 64mp and 16mp pictures....Back cover provided in accessories is impressive and good quality.and finally Looks is very awesome, both side gorilla glass shining..Overall very good phoneREAD MORE', 'Camera is good Display is very smooth Fast charger is very fast Battery is good but after update realme UI with Android 10 battery drain very fast optimization is very badREAD MORE', \"Realme is good mobile. it's looks very nice performance......good. but little laggingcamera.........good. but saturation is little highbattery......good. I like 3.0 vocc chargerprocessor......SD 712 is goodREAD MORE\"], ['Amazing phone with great performance. Great battery backup. The Main Camera is great but Realme needs to work on the Macro Lense. Pics from the Macro Lense lack details. The wide angle camera is fine but still needs more sharpness. Battery backup is great. Screen display is vibrant and very clear. Sound is also very clear.READ MORE', 'Best mobile 📷 amezing Display nice All prafomamce very good but better low qualityREAD MORE', 'phone is really good. best part is its screen and design.fingerprint works really good even the face unlock is fast.its really worth for its price. just go for it.READ MORE', \"This my 2nd realme phone. The phone is a beast it self. I am using this phone for 3days and it's perfect.  the design is premium. The feel in hand is also good. The processor is very good and for that the performance is out standing. The face unlock and the in display fingerprint sensor work very fast. The main highlight of the phone is the camera with quad camera set up 64+8+2+2  with ultra wide portrait and macro lense and the selfie camera with 16 mp is also very good. The color os is the...READ MORE\", \"Osm camera and premium flagship mobile looking.Pic are so clear and charging speed very fast and sound quality super . it's completely value for money Mr Ashutosh with MREAD MORE\", 'Phone is good ... I buying this on offer 12992 , good camera , good everything ..READ MORE', \"I m using this phone for more than one month now, I feel the camera quality is more than awesome in this range and night mode picture is the best thing in camera. It does not hang for me now since it's just one month and I don't play heavy mobile games. Battery charging is faster as compared to other Android phones of this range. but using phone full day with all media used , videos watched it lasts for a day not more than that. Charging it for 20-30 minutes is sufficient for usage for approx...READ MORE\", 'Writing the review after using the mobile for 10 days.One who looking for good camera, display, battery and sound. This REALME XT is for you.Before buying this phone, i wondered the advertisement of first quad cam and 64MP buildup. Fortunately it lived upto the expectation. Biggest surprise of this mobile is SOUND. It is completely mind blowing. When hearing in headphones and in loudspeaker, the sound is CLASS!! On hand it looks classy and elegant. You get a feel using a premium mobiles.A...READ MORE', \"after 10 days of use my genuine review is...let's start with pros1. Good look and design2. Good camera quality3. Ram management is super. I mean u will never feel any lag. I have 4gb variant and still it works very smoothly.4. best processor at this price SD 710+ 5. feels like premium/flagship phone6. Battery backup is unbelievable. with just 4000mah battery u can use ur phone for 15+ hrs on an average use (I mean 3-5 hrs net surfing , 1 hr game , 1-2 hr call , 2-3 hr music, 3-4  hr st...READ MORE\", 'Aweome mobile. Truly a change maker with splendid display, touch, experience. Worth every penny. Commendable and much recommended 🙂READ MORE'], [\"great phone at this price....First I thought that redmi note 8 pro is better than this device but I was wrong..... this is better than redmi note 8 pro....it has full hd+ super AMOLED display which is great...... it has great camera..... front and back both....super fast charging..... which I personally liked.....glass back.... which is awesome....so don't wait go for it and if you are satisfied with my review please like it...👇👇READ MORE\", 'Overall all-rounder performance from realme👍 satisfied after 2 month usage❤️ some of best spes: 1.Amoled display 2.In-display finger print sensor 3:Dolby speakers 4: charging speed(1hr 10 min)       5: cameras 6: Gaming like Pubg, Real cricket 20        7: Battery (1day).  over 7 month the product launched XT is still best mid range segment to buy...READ MORE', \"Well..I'm very much satisfied with this Adorable Realme XT... Brilliant performance with nice featuring camera, Battery backups ,etc 😊READ MORE\", 'it is best phone in this range.. if you want best camera phone with good battery life then it is a best option everything is best in this cell phone.. thnkew flipkart and realmeREAD MORE', 'Best camera phone in this price range. It has a very Good processor.  No heating issues. Has very good display. Battery backup is also good. Best part is the 20W vooc charger..charges full in just 1 hr!..Best phone in this price segment to go for👍👍READ MORE', 'Well starting with the delivery. It was good Flipkart delivered in two days.first of all the overall look is awesome it feels premium in the hand. 1.The display off course which is Super AMOLED one is awesome the light is good. And also Netflix is playing at HD quality.(5/5)2.Battery is terrific and also the vooc 3.0 charger is phenomenal so no worry in that department.(5/5)3. Performance is also excellent PUBG is playing smoothly in HD mode and make sure you have a good internet connecti...READ MORE', 'awesome camera.. specially wide angle and ultra 64 mode are fabulous ??? battery backup is quite good and vooc charger takes 80 minutes to charge phone from zero to hundred percent ? worth buying ✌️✌️READ MORE', 'Overall Experience of mobile is good.Display is not like as Samsung Amoled, but this is good.Worst part is the UI instead of wasting on UI research, better to deploy Google Android One this can impress the other consumers who looks for security trust instead of their own OS.Volume key placement is not good and capturing the screenshots unintentionally.Hope this review helps you and realme too.READ MORE', \"Value for money! Best choice for mid range.. This Pearl white model feels luxurious & the gradients absolutely shine. Performance across day- to- day use is excellent and gives you no reason to complain. Battery life is pretty good and VOOC flash charge is just awesome, fast charging is one of the most loved feature in it. Camera quality is superb. Overall, Realme XT offers tremendous value for the money. It's definitely a good choice if you're looking for a smartphone under 20k.READ MORE\", 'after usage 8days pros1.camera 4.5/5(both) Google cam superb 2.display 4.5/53.battery 4.5/5 4.looks premium 5/55.daily usage sd712 5/5 6.price aggressive 5/5cons1.color os2.camera some times warm colours but Google cam works fine3.no led notification (mine no problem) over all excellent product at this priceREAD MORE'], [\"Real power in hand.. fastest unlock features by both in display finger print scanner and front camera.. One of the best features I like in this phone is you can use internet of wifi and mobile data combinely in same time. Under 20000 you can't get a good phone like this.. I will highly recommend this phone. ...For more premium looks prefer Pearl white, white looks more attractive than blueREAD MORE\", 'excellent mobile best budget everything perfectI love REALME BRAND best hunter for other companiesREAD MORE', \"Realme xt is awesome for his 64 Mp camera and the glass design looks pretty nice and Realme is a brand that satisfy there customers and one more order a screen guard too because it's get scratch within a month.READ MORE\", 'Realme XT is a good product having all kinds of specifications. But I want to point out some common problems1. Camera bump- Huge bump feels odd. Looks bad.2. Battery quality is not good. Drains fast specially if u play games. You have to charge everyday in normal use. If u play games then twice/thrice a day.3. No led notifications.4. Very slippery.5. Low light camera is average or below average. 6. Selfie camera is bad in low light.7. No zoom in option in 64MP and occupies large space ...READ MORE', \"hello guys.. it's wonderful and powrfull device by Realme. I am really happy for the services given by flipkart. I placed the order of realme xt yesterday evening and the phone deliverd at the morning around 10:30 am. Pro : stylish design, camera , powerful performance , sound quality , fast charging facility. Cons : Battery drain quickly , when are u used it frequently. Boring Theams .READ MORE\", 'from this phone i become a big fan of realme its worth buying mobile awesome display awesome camera everything is just awesome..bass esa hi mobile chaiye..tha...nd #Thankx to Flipkart for fast delivery.READ MORE', \"The day to day experience of the Realme XT isn't very different from the Realme 5 Pro (Review), and that's a good thing. The phone is a bit too tall for one-handed use, but you can enable one-handed mode for more convenience. The display is bright, with good sunlight legibility and colours are punchy. The pre-applied screen guard is useful, but the edges don't sit flush with the side of the display so it tends to rub against your fingers when performing gestures, which is annoying.We used t...READ MORE\", 'product was good nice packing, also looks good premimum quality phone i m happy with it in that price features looks build quality awesome but shipping time very slowREAD MORE', 'excellent phone,, super camera, and fast face unlock. great display quality ,and smart looking awesomeREAD MORE', 'Wonderful !!! Worth buying really loved it thank you flipcartREAD MORE'], [\"All round good phone, I've been using it for 6 months, the pros & cons are as follows:Pros:1) Display is great a good quality AMOLED display.2) Day to Day general tasks are a breeze, & it can handle the most games just not at the highest settings.3) Cameras I found the main 64 MP is good & the wide angle is average.4) Design is good sturdy build, I've dropped it without cover 3 times but no noticable scratches.5) Connectivity is good, call quality is also good.6) Front camera is also g...READ MORE\", 'Nice build quality fast response camera quality is good one of the best flagship phone of realme 👍💥READ MORE', \"this phone is really wise choice. I brought this phone on daddy bday gift.pros:1. Camera is cool. it's better capture images as compare to my poco F1.2. The screen is more big and very great experience as compare to poco F1.3. The sound quality is more fantastic then all phone budgets phone and poco F1. When you play audio all other phones sound fade away infront this even in headphone it gives better sound.4. battery life is amazing run more then 1.5 day in average usage.cons:no con...READ MORE\", 'There is a default sound issue in speakers of realme phones that I discovered after comparing it with other phones. Maybe some sort of sound sensor or tempo is missing. Not a good quality speaker.Just play the song \"21 savage- 7 min freestyle\" and observe the first 5 seconds of that song between two phones or any laptop, you may also discover the issue.At this price segment, this phone covers almost everything you can expect in other high-range flagship phones, barring the processor.e.g. ...READ MORE', \"this review is after 10 days. performance is good, display also good vivid but if I compare with samsung's amoled then samsung is better than realme XT. samsung amoled has eye catching color. camera is good not excellent. portrait and 64 mp mode is good. sound quality is awesome, mind blowing. battery backup is normal not good. at this price range camera and battery quality should had better than now. over all is good.READ MORE\", 'I like the phone very much. Compared to my previous phone, battery life of this phone is longer. I just need to charge it once in a day. And it has fast charging also so it gets charged really fast. Display is good.Phone design with the pearl blue variant is super good. Camera is also good but not as I expected. The pictures look so artificial. Overall I like this phone  very much.READ MORE', 'trust me guys this mobile is just fantastic. superb amoled display, super fast face unlock, excellent build quality, awesome looks, fantastic camera, touch is awesome, battery is nice too and mobile charging is super fast too, touch and feel in hand is hust wow, it comes with pre installed screen protector. I had ordered k20 before and this phone is much better than k20. Mi phones are nothing infront of this. This phone is a real deal guys.READ MORE', 'Very happy good purchase at a good price it totally satisfied my all needs .. thanks to Flipkart on time delivery good packing ... Overall its a fantastic device for regular usage .. ruff n tuff goo n click the buy now button...READ MORE', 'Posting after using it for 4 days straightPros- Supreme Camera once you get a handle on it. Better without using AI- AMOLED delivers a superb picture quality.- Dolby Atmos is way more than just satisfactory- Fast In-screen Fingerprint scanner- Best buy phone in this budget- Made in India 😁ConsNO MAJORLY AFFECTING CONS that I personally experienced. - For someone who has a heavy usage (Calling, Apps, Gaming etc) Battery serves just enough to land in competition with other brands.-...READ MORE', 'Beautiful design and build quality. Camera is just amazing.Images I have shot at different times of the day are live proof . Fast charging and long lasting impressed me a lot. #realmeXTREAD MORE'], ['AWESOME smartphone with awesome camera and best battery life worth for money.READ MORE', 'good phone good camera nice display fast charge is Soo good overall good smartphoneREAD MORE', 'Flagship phone under 20k. Everything is smooth running, only the camera is a bit weird- the photos are too sharp and selfie camera makes face look red and heaved with filter. Other than this, the back camera is pretty good, selfie camera- not so much.READ MORE', \"it's very nice phone. looking like superb and camera is very nice. Very good product.  Value for money.READ MORE\", \"realme XT is the new champ. that competes one plus 7t mobilecamere performance is awesome gives high saturated images yet images looks stunningBut color os needs to be update with new version having some minor issues 1)when u search apps in google playstore it wont give you proper search results 2)when u put ur mobile in pocket for longer period front display  finger print misbehaves it wont recognize sometimesthat's the only cons., I observedotherwise it's awesome budjet smartphone...READ MORE\", 'after use of 7 days amoled displays is awesomesd712 is fastcamera struggle in low light and daylight perform like pro...color os is need optimization not niceVOOC charging is to good...1.20 hours to take 0 % to 100% charge.in end for pubg lover pubg plays in hd but sometime lag that not nice play in smooth n Ballance ultra mode works fine.READ MORE', 'I genuinely recommended for this device. Snapdragon 712 (10NM) fabulous performance. No lag playing PUBG and other heavy game run smoothly. Camera is OK. Battery performance is very good.  Overall complete mobile on this year. Thanks realme and Flipkart given fabulous mobile under very good price. Very good mobile.READ MORE', 'product good best camera in the world perfect image quality best choice realme XTREAD MORE', 'Wow wow Awesome camera And Best performance mobile i liked you mobile for B.KREAD MORE', 'Super Se Bhi Upar Wala Phone, Beautiful Amoled Display, Awesome Build Quality, Great Camera, Bullet Speed Fingerprint Sensor and Much More At This Price. This Phone Is a Perfect All-rounder, No Cons At All Only Pros.READ MORE'], ['After use of 15 days , I am sharing my full experience.GOOD QUALITIES1. Phone is very slim and light weight. 2. Display is tooo Good.3. Charger and Battery Backup is awesome. (Full Charge in 80 min)4. Telephoto shoot and ultrawide camera mode is Ammazing.5. Sound is not high but sound quality is Nice.6. No Heating problem after heavy 3-4 hours pubg gaming.BAD QUALITIES1. 64 Mp is not good as compare to 48 mp Realme X. You can compare the camera quality of both phones. Realme X camer...READ MORE', \"I was very excited about camera but disappointed.zooming clarity is like 0.5 mp camera..This 64 MP camera is totally fraud..Old mobile's 5 mp zooming and overall clearity is better than this 64 MPREAD MORE\", 'Fantastic camera with nice wide angle and great performance, really a worthy product by realme.READ MORE', 'good phone for the price surely wont let you down . good display good camera good performance . In hand feeling is really awesome premium feel because of gorilla glass 5 on both sides. battery optimization is good too. no heating issues even while charging . Andriod Q and realme OS will take this phone to another level. This phone wont let you down.READ MORE', \"best phone in 2k19 ...don't wait to see the review of this phone, must bye .wonderful camera, good battery backup , fast charge...nice display... super touch....a perfect phone by realme in 2k19....READ MORE\", 'I am impressed by look and feel of the device, it gives you the Premium feel. I bought blue color and I was like wow when unboxed it. there is a lot good to say about this phone but I am lazy. Just one thing which could more helpful to buyers is the camera, yes the camera is awesome. just go for this phone.READ MORE', 'I would say that this is the  \"*PERFECT*\"   smartphone fulfilling each and every reqirements of a smartphone in this range.Camera is just flagship...  Display is crisp and produce perfect colours . Snap 712 does its job well and good. Battery and fastcharger is top notch in this price.Indisplay fingerprint sensor is again fantasticI chose the pearl white colour and am fully satisfied with it.READ MORE', 'my very happy happy nice smartphone my fast sale book realme xt smartphon?nice parfarmance qulcom snapdragon 730g processer\"nice qward camera india is fast smartphone 64mp camera qward 📷 64\"8\"2\"2nice capchcaring and best salfi \"\"front is back gorilla glass 5 ka protection and best glass finishing\"and smartphone sport 18w fast charger and open box 18w fast charger!!READ MORE', 'it is one of the best mobile camera  is best and SLOmo is very great but in SLOmo there is something elseREAD MORE', \"Pros - Fast charging, Processor, camera, when you see the videos colours are Superb,fast finger print sensorCons - nit selfie very bad, Display looks dark(low lighting),  No beauty mode in video recording and portrait shot, we can't shoot wide angle videos, Color OS ,Duel apps are only Fb, messenger,wts up that's it.READ MORE\"]]\n",
      "\n",
      " ****************************************************************************************************\n",
      "[['Great product', 'Really Nice', 'Nice product', 'Classy product', 'Wonderful', 'Pretty good', 'Terrific', 'Fabulous!', 'Super!', 'Brilliant'], ['Really Nice', 'Terrific', 'Really Nice', 'Delightful', 'Terrific', 'Exceptional. Wonderful', 'Simply awesome', 'Wonderful', 'Just wow!', 'Terrific purchase'], ['Classy product', 'Excellent', 'Terrific', 'Excellent', 'Great product', 'Worth the money', 'Mind-blowing purchase', 'Just wow!', 'Does the job', 'Just wow!'], ['Worth every penny', 'Fabulous!', 'Must buy!', 'Great product', 'Super!', 'Best in the market!', 'Excellent', 'Just okay', 'Worth the money', 'Simply awesome'], ['Wonderful', 'Highly recommended', 'Very Good', 'Good quality product', 'Super!', 'Awesome', 'Mind-blowing purchase', 'Perfect product!', 'Brilliant', 'Awesome'], ['Good', 'Fabulous!', 'Fabulous!', 'Sound issue but overall good', 'Best in the market!', 'Terrific purchase', 'Must buy!', 'Fabulous!', 'Worth the money', 'Wonderful'], ['Worth every penny', 'Just wow!', 'Nice', 'Worth every penny', 'Good quality product', 'Fabulous!', 'Fabulous!', 'Wonderful', 'Classy product', \"No Phone Can Touch It's Edges, That's It.\"], ['Decent product', 'Awesome', 'Good choice', 'Good choice', 'Worth every penny', 'Terrific', 'Terrific purchase', 'Simply awesome', 'Wonderful', 'Very Good']]\n",
      "\n",
      " ****************************************************************************************************\n",
      "[['Manoj Jadhav', 'Hemanga Saikia', 'Dipanwita Maity', 'Aditya Singh', 'Dibyajyoti Dash', 'Flipkart Customer', 'Jayaram Arumugam', 'Bimal Mandal', 'Gajendra Gaur', 'My Account'], ['Amit Biswas', 'Debasish Gogoi', 'Balusu Vinod kumar', 'Urmila Sah', 'Jay Nayak', 'Santosh Behera', 'Hardik  Bariya ', 'Dipak Nile', 'Shaik Karimulla ', 'Flipkart Customer'], ['Shalabh Kapoor', 'Biswajit Pal', 'Sushil  Jain', 'Jaydeep Das', 'Vikas  Bhardwaj', 'Sanjay Dutt', 'Neha Samtani', 'Flipkart Customer', 'Azmat Arshi', 'Deepak Kumar'], ['Satyanarayan Dad', 'Aravind', 'VISHAL  BHARATI', 'Shalu  Mansoori', 'Kapish Yadav', 'Mir Basit', 'manoj  joshi', 'prem  Kumar', 'Poonam Rawat', 'SHAIK GOUSE'], ['Pratyush Dalai', 'Flipkart Customer', 'Mohammed Saaqib Naqvi', 'Subhashis Saren', 'Subhajit Saha', 'Yogesh Painuly', 'Lutfur Rahman Khan', 'Mithilesh Kumar', 'SHIJU Anu', 'Flipkart Customer'], ['Flipkart Customer', 'Flipkart Customer', 'Flipkart Customer', 'Akash Ranjan', 'Rabin  Roy ', 'Aiswarya Sudhakaran', 'Flipkart Customer', 'SAVAN  PADALIYA', 'Flipkart Customer', 'Koushik  Mardi'], ['Sushil Girhepunje', 'Mani  Shetty', 'Faiqa Ziya', 'Nilay Rajput', 'Kiran S Kumar', 'avinash jiotode', 'Santosh Wadkar', 'Nandu Rajak', 'VANAR BHAVESH. K', 'sudhanshu shekhar'], ['Md. Faiz Alam', 'Pravin Pachange', 'Flipkart Customer', 'Luis. F.  Viegas ', 'Supriya acharya', 'Anand Magre', 'Flipkart Customer', 'Pankaj Kumar Prasad', 'Akhilesh Palariya', 'IRFAN HASSAN']]\n"
     ]
    }
   ],
   "source": [
    "header_list=[]\n",
    "comment_list=[]\n",
    "users_list =[]\n",
    "image_list=[]\n",
    "for i in range(2,10):\n",
    "    URL='https://www.flipkart.com/realme-xt-pearl-white-64-gb/product-reviews/itm731360fdbd273?pid=MOBFJYBEMRXDQXH4&lid=LSTMOBFJYBEMRXDQXH4IFPPLV&marketplace=FLIPKART&page='+str(i)\n",
    "    data = requests.get(URL)\n",
    "    rev_soup = BeautifulSoup(data.content,'html.parser')\n",
    "    for rev in reviews:\n",
    "        comments = rev_soup.find_all('div',{'class':'qwjRop'})\n",
    "        comments=[e.get_text() for e in comments]\n",
    "        comment_list.append(comments)\n",
    "        header=rev_soup.find_all('p',{'class':'_2xg6Ul'})\n",
    "        header=[e.get_text() for e in header]\n",
    "        users = rev_soup.find_all('p',{'class':'_3LYOAd _3sxSiS'})\n",
    "        users = [e.get_text() for e in users]   \n",
    "        users_list.append(users)\n",
    "        header_list.append(header)\n",
    "print('*'*100)    \n",
    "print(comment_list)\n",
    "print('\\n','*'*100)\n",
    "print(header_list)\n",
    "print('\\n','*'*100)\n",
    "print(users_list)\n",
    "\n"
   ]
  },
  {
   "cell_type": "code",
   "execution_count": null,
   "metadata": {},
   "outputs": [],
   "source": []
  }
 ],
 "metadata": {
  "kernelspec": {
   "display_name": "Python 3",
   "language": "python",
   "name": "python3"
  },
  "language_info": {
   "codemirror_mode": {
    "name": "ipython",
    "version": 3
   },
   "file_extension": ".py",
   "mimetype": "text/x-python",
   "name": "python",
   "nbconvert_exporter": "python",
   "pygments_lexer": "ipython3",
   "version": "3.7.6"
  }
 },
 "nbformat": 4,
 "nbformat_minor": 4
}
